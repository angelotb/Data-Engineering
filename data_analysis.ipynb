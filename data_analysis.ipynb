{
 "cells": [
  {
   "cell_type": "code",
   "execution_count": 5,
   "id": "81fdb396",
   "metadata": {},
   "outputs": [],
   "source": [
    "import pandas as pd\n",
    "df = pd.read_csv('red_30_tech_us_sales.csv')"
   ]
  },
  {
   "cell_type": "code",
   "execution_count": 7,
   "id": "60aebd62",
   "metadata": {},
   "outputs": [
    {
     "name": "stdout",
     "output_type": "stream",
     "text": [
      "EmpID \n",
      "900010405    1473\n",
      "900010430    1508\n",
      "900010813     722\n",
      "900010836    1391\n",
      "900010875    1213\n",
      "900011056     887\n",
      "900011189    1339\n",
      "900011678    1108\n",
      "900012180     913\n",
      "900012258     628\n",
      "900012260     402\n",
      "900012297     500\n",
      "900012326    1298\n",
      "900012483    1437\n",
      "900012723    2497\n",
      "900012972    1800\n",
      "900013387    1642\n",
      "900013587     618\n",
      "900013598     953\n",
      "900013626    2584\n",
      "900014032    1068\n",
      "900014598    2311\n",
      "900014980    1362\n",
      "900015082    1887\n",
      "900015476     738\n",
      "900015673     904\n",
      "900015938    2664\n",
      "900016088    1431\n",
      "900016297    1284\n",
      "900016392     613\n",
      "900016416    2050\n",
      "900016602    1238\n",
      "900017044     769\n",
      "900017930     459\n",
      "900018190    2223\n",
      "900018460    1652\n",
      "900018661    1941\n",
      "900018689    1298\n",
      "900018996    1205\n",
      "900019250     392\n",
      "900019311     704\n",
      "900019833     872\n",
      "900019884     628\n",
      "900019978     665\n",
      "Name: Quantity, dtype: int64\n"
     ]
    }
   ],
   "source": [
    "grouped_df = df.groupby('EmpID ')['Quantity'].sum()\n",
    "print(grouped_df)"
   ]
  },
  {
   "cell_type": "code",
   "execution_count": 8,
   "id": "c36edad3",
   "metadata": {},
   "outputs": [
    {
     "name": "stdout",
     "output_type": "stream",
     "text": [
      "EmpID \n",
      "900015938    2664\n",
      "900013626    2584\n",
      "900012723    2497\n",
      "900014598    2311\n",
      "900018190    2223\n",
      "900016416    2050\n",
      "900018661    1941\n",
      "900015082    1887\n",
      "900012972    1800\n",
      "900018460    1652\n",
      "900013387    1642\n",
      "900010430    1508\n",
      "900010405    1473\n",
      "900012483    1437\n",
      "900016088    1431\n",
      "900010836    1391\n",
      "900014980    1362\n",
      "900011189    1339\n",
      "900012326    1298\n",
      "900018689    1298\n",
      "900016297    1284\n",
      "900016602    1238\n",
      "900010875    1213\n",
      "900018996    1205\n",
      "900011678    1108\n",
      "900014032    1068\n",
      "900013598     953\n",
      "900012180     913\n",
      "900015673     904\n",
      "900011056     887\n",
      "900019833     872\n",
      "900017044     769\n",
      "900015476     738\n",
      "900010813     722\n",
      "900019311     704\n",
      "900019978     665\n",
      "900012258     628\n",
      "900019884     628\n",
      "900013587     618\n",
      "900016392     613\n",
      "900012297     500\n",
      "900017930     459\n",
      "900012260     402\n",
      "900019250     392\n",
      "Name: Quantity, dtype: int64\n"
     ]
    }
   ],
   "source": [
    "sorted_quantity = grouped_df.sort_values(ascending=False)\n",
    "print(sorted_quantity)"
   ]
  },
  {
   "cell_type": "code",
   "execution_count": 9,
   "id": "f29e0f57",
   "metadata": {},
   "outputs": [
    {
     "name": "stdout",
     "output_type": "stream",
     "text": [
      "EmpID \n",
      "900015938    2664\n",
      "900013626    2584\n",
      "900012723    2497\n",
      "900014598    2311\n",
      "900018190    2223\n",
      "900016416    2050\n",
      "900018661    1941\n",
      "900015082    1887\n",
      "900012972    1800\n",
      "900018460    1652\n",
      "Name: Quantity, dtype: int64\n"
     ]
    }
   ],
   "source": [
    "top_employees = grouped_df.nlargest(10)\n",
    "print(top_employees)"
   ]
  },
  {
   "cell_type": "code",
   "execution_count": 10,
   "id": "ee7c77d8",
   "metadata": {},
   "outputs": [
    {
     "name": "stdout",
     "output_type": "stream",
     "text": [
      "EmpID \n",
      "900019250    392\n",
      "900012260    402\n",
      "900017930    459\n",
      "900012297    500\n",
      "900016392    613\n",
      "900013587    618\n",
      "900012258    628\n",
      "900019884    628\n",
      "900019978    665\n",
      "900019311    704\n",
      "Name: Quantity, dtype: int64\n"
     ]
    }
   ],
   "source": [
    "top_employees = grouped_df.nsmallest(10)\n",
    "print(top_employees)"
   ]
  }
 ],
 "metadata": {
  "kernelspec": {
   "display_name": "Python 3",
   "language": "python",
   "name": "python3"
  },
  "language_info": {
   "codemirror_mode": {
    "name": "ipython",
    "version": 3
   },
   "file_extension": ".py",
   "mimetype": "text/x-python",
   "name": "python",
   "nbconvert_exporter": "python",
   "pygments_lexer": "ipython3",
   "version": "3.12.1"
  }
 },
 "nbformat": 4,
 "nbformat_minor": 5
}
