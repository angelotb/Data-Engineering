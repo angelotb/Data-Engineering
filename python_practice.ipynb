{
 "cells": [
  {
   "cell_type": "code",
   "execution_count": 2,
   "id": "09ddd396",
   "metadata": {},
   "outputs": [],
   "source": [
    "name =\"Tom\""
   ]
  },
  {
   "cell_type": "code",
   "execution_count": 3,
   "id": "85a106d4",
   "metadata": {},
   "outputs": [],
   "source": [
    "age = 50"
   ]
  },
  {
   "cell_type": "code",
   "execution_count": 4,
   "id": "b6700718",
   "metadata": {},
   "outputs": [],
   "source": [
    "student_status = True"
   ]
  },
  {
   "cell_type": "code",
   "execution_count": 5,
   "id": "78bd26f2",
   "metadata": {},
   "outputs": [
    {
     "name": "stdout",
     "output_type": "stream",
     "text": [
      "Tom 50 True\n"
     ]
    }
   ],
   "source": [
    "print(name, age, student_status)"
   ]
  },
  {
   "cell_type": "code",
   "execution_count": 6,
   "id": "9acd4d0e",
   "metadata": {},
   "outputs": [
    {
     "name": "stdout",
     "output_type": "stream",
     "text": [
      "The number is positive\n"
     ]
    }
   ],
   "source": [
    "number = 22\n",
    "if number > 0:\n",
    "    print(\"The number is positive\")\n",
    "else:\n",
    "    print(\"The number is negative\")"
   ]
  },
  {
   "cell_type": "code",
   "execution_count": 7,
   "id": "9fa902d4",
   "metadata": {},
   "outputs": [
    {
     "name": "stdout",
     "output_type": "stream",
     "text": [
      "iteration: 0\n",
      "iteration: 1\n",
      "iteration: 2\n",
      "iteration: 3\n",
      "iteration: 4\n",
      "iteration: 5\n"
     ]
    }
   ],
   "source": [
    "for i in range(6):\n",
    "    print(\"iteration:\", i)"
   ]
  },
  {
   "cell_type": "code",
   "execution_count": 1,
   "id": "6d034665",
   "metadata": {},
   "outputs": [
    {
     "name": "stdout",
     "output_type": "stream",
     "text": [
      "Hello World\n"
     ]
    }
   ],
   "source": [
    "print('Hello World')"
   ]
  }
 ],
 "metadata": {
  "kernelspec": {
   "display_name": "Python 3",
   "language": "python",
   "name": "python3"
  },
  "language_info": {
   "codemirror_mode": {
    "name": "ipython",
    "version": 3
   },
   "file_extension": ".py",
   "mimetype": "text/x-python",
   "name": "python",
   "nbconvert_exporter": "python",
   "pygments_lexer": "ipython3",
   "version": "3.12.1"
  }
 },
 "nbformat": 4,
 "nbformat_minor": 5
}
